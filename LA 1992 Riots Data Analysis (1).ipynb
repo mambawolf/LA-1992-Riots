{
 "cells": [
  {
   "cell_type": "markdown",
   "metadata": {},
   "source": [
    "# Importing and Loading Dataset\n"
   ]
  },
  {
   "cell_type": "code",
   "execution_count": 1,
   "metadata": {},
   "outputs": [],
   "source": [
    "import pandas as pd\n",
    "import numpy as np\n",
    "import matplotlib.pyplot as plt\n",
    "%matplotlib inline "
   ]
  },
  {
   "cell_type": "code",
   "execution_count": 2,
   "metadata": {},
   "outputs": [],
   "source": [
    "data_df = pd.read_csv('deaths.csv')"
   ]
  },
  {
   "cell_type": "code",
   "execution_count": 3,
   "metadata": {},
   "outputs": [
    {
     "data": {
      "text/html": [
       "<div>\n",
       "<style scoped>\n",
       "    .dataframe tbody tr th:only-of-type {\n",
       "        vertical-align: middle;\n",
       "    }\n",
       "\n",
       "    .dataframe tbody tr th {\n",
       "        vertical-align: top;\n",
       "    }\n",
       "\n",
       "    .dataframe thead th {\n",
       "        text-align: right;\n",
       "    }\n",
       "</style>\n",
       "<table border=\"1\" class=\"dataframe\">\n",
       "  <thead>\n",
       "    <tr style=\"text-align: right;\">\n",
       "      <th></th>\n",
       "      <th>first</th>\n",
       "      <th>last</th>\n",
       "      <th>Full Name</th>\n",
       "      <th>Solved*</th>\n",
       "      <th>Age</th>\n",
       "      <th>Gender</th>\n",
       "      <th>Race</th>\n",
       "      <th>Date</th>\n",
       "      <th>Address</th>\n",
       "      <th>Neighborhood</th>\n",
       "      <th>status</th>\n",
       "      <th>lat</th>\n",
       "      <th>lon</th>\n",
       "      <th>Map Description</th>\n",
       "      <th>Story</th>\n",
       "      <th>URL</th>\n",
       "    </tr>\n",
       "  </thead>\n",
       "  <tbody>\n",
       "    <tr>\n",
       "      <th>0</th>\n",
       "      <td>Cesar A.</td>\n",
       "      <td>Aguilar</td>\n",
       "      <td>Cesar A. Aguilar</td>\n",
       "      <td>NaN</td>\n",
       "      <td>18</td>\n",
       "      <td>Male</td>\n",
       "      <td>Latino</td>\n",
       "      <td>1992-04-30</td>\n",
       "      <td>2009 W. 6th St.</td>\n",
       "      <td>Westlake</td>\n",
       "      <td>Officer involved shooting</td>\n",
       "      <td>-118.273976</td>\n",
       "      <td>34.059281</td>\n",
       "      <td>Cesar Aguilar, an 18-year-old Latino, was shot...</td>\n",
       "      <td>Cesar Aguilar, an 18-year-old Latino, was shot...</td>\n",
       "      <td>http://articles.latimes.com/print/1992-06-21/n...</td>\n",
       "    </tr>\n",
       "    <tr>\n",
       "      <th>1</th>\n",
       "      <td>George</td>\n",
       "      <td>Alvarez</td>\n",
       "      <td>George Alvarez</td>\n",
       "      <td>NaN</td>\n",
       "      <td>42</td>\n",
       "      <td>Male</td>\n",
       "      <td>Latino</td>\n",
       "      <td>1992-05-01</td>\n",
       "      <td>Main &amp; College streets</td>\n",
       "      <td>Chinatown</td>\n",
       "      <td>Not riot-related</td>\n",
       "      <td>-118.234098</td>\n",
       "      <td>34.062690</td>\n",
       "      <td>George Alvarez, a 42-year-old Latino, died Fri...</td>\n",
       "      <td>George Alvarez, a 42-year-old Latino, died Fri...</td>\n",
       "      <td>NaN</td>\n",
       "    </tr>\n",
       "    <tr>\n",
       "      <th>2</th>\n",
       "      <td>Wilson</td>\n",
       "      <td>Alvarez</td>\n",
       "      <td>Wilson  Alvarez</td>\n",
       "      <td>Unsolved</td>\n",
       "      <td>40</td>\n",
       "      <td>Male</td>\n",
       "      <td>Latino</td>\n",
       "      <td>1992-05-23</td>\n",
       "      <td>3100 Rosecrans Ave.</td>\n",
       "      <td>Hawthorne</td>\n",
       "      <td>Homicide</td>\n",
       "      <td>-118.326816</td>\n",
       "      <td>33.901662</td>\n",
       "      <td>Wilson Alvarez, a 40-year-old Latino, died of ...</td>\n",
       "      <td>Wilson Alvarez, a 40-year-old Latino, died of ...</td>\n",
       "      <td>NaN</td>\n",
       "    </tr>\n",
       "    <tr>\n",
       "      <th>3</th>\n",
       "      <td>Brian E.</td>\n",
       "      <td>Andrew</td>\n",
       "      <td>Brian E. Andrew</td>\n",
       "      <td>NaN</td>\n",
       "      <td>30</td>\n",
       "      <td>Male</td>\n",
       "      <td>Black</td>\n",
       "      <td>1992-04-30</td>\n",
       "      <td>Rosecrans &amp; Chester avenues</td>\n",
       "      <td>Compton</td>\n",
       "      <td>Officer involved shooting</td>\n",
       "      <td>-118.215390</td>\n",
       "      <td>33.903457</td>\n",
       "      <td>Brian E. Andrew, a 30-year-old black man, was ...</td>\n",
       "      <td>Brian E. Andrew, a 30-year-old black man, was ...</td>\n",
       "      <td>http://articles.latimes.com/print/1992-05-24/n...</td>\n",
       "    </tr>\n",
       "    <tr>\n",
       "      <th>4</th>\n",
       "      <td>Vivian</td>\n",
       "      <td>Austin</td>\n",
       "      <td>Vivian  Austin</td>\n",
       "      <td>NaN</td>\n",
       "      <td>87</td>\n",
       "      <td>Female</td>\n",
       "      <td>Black</td>\n",
       "      <td>5/3/1992</td>\n",
       "      <td>1600 W. 60th St.</td>\n",
       "      <td>Harvard Park</td>\n",
       "      <td>Death</td>\n",
       "      <td>-118.304741</td>\n",
       "      <td>33.985667</td>\n",
       "      <td>Vivian Austin, an 87-year-old black woman, die...</td>\n",
       "      <td>Vivian Austin, an 87-year-old black woman, die...</td>\n",
       "      <td>NaN</td>\n",
       "    </tr>\n",
       "  </tbody>\n",
       "</table>\n",
       "</div>"
      ],
      "text/plain": [
       "      first     last         Full Name   Solved* Age  Gender     Race  \\\n",
       "0  Cesar A.  Aguilar  Cesar A. Aguilar       NaN  18    Male   Latino   \n",
       "1    George  Alvarez    George Alvarez       NaN  42    Male   Latino   \n",
       "2   Wilson   Alvarez   Wilson  Alvarez  Unsolved  40    Male   Latino   \n",
       "3  Brian E.   Andrew   Brian E. Andrew       NaN  30    Male    Black   \n",
       "4   Vivian    Austin    Vivian  Austin       NaN  87  Female    Black   \n",
       "\n",
       "          Date                       Address  Neighborhood  \\\n",
       "0   1992-04-30               2009 W. 6th St.      Westlake   \n",
       "1   1992-05-01        Main & College streets     Chinatown   \n",
       "2   1992-05-23           3100 Rosecrans Ave.     Hawthorne   \n",
       "3   1992-04-30   Rosecrans & Chester avenues       Compton   \n",
       "4     5/3/1992              1600 W. 60th St.  Harvard Park   \n",
       "\n",
       "                      status         lat        lon  \\\n",
       "0  Officer involved shooting -118.273976  34.059281   \n",
       "1           Not riot-related -118.234098  34.062690   \n",
       "2                   Homicide -118.326816  33.901662   \n",
       "3  Officer involved shooting -118.215390  33.903457   \n",
       "4                      Death -118.304741  33.985667   \n",
       "\n",
       "                                     Map Description  \\\n",
       "0  Cesar Aguilar, an 18-year-old Latino, was shot...   \n",
       "1  George Alvarez, a 42-year-old Latino, died Fri...   \n",
       "2  Wilson Alvarez, a 40-year-old Latino, died of ...   \n",
       "3  Brian E. Andrew, a 30-year-old black man, was ...   \n",
       "4  Vivian Austin, an 87-year-old black woman, die...   \n",
       "\n",
       "                                               Story  \\\n",
       "0  Cesar Aguilar, an 18-year-old Latino, was shot...   \n",
       "1  George Alvarez, a 42-year-old Latino, died Fri...   \n",
       "2  Wilson Alvarez, a 40-year-old Latino, died of ...   \n",
       "3  Brian E. Andrew, a 30-year-old black man, was ...   \n",
       "4  Vivian Austin, an 87-year-old black woman, die...   \n",
       "\n",
       "                                                 URL  \n",
       "0  http://articles.latimes.com/print/1992-06-21/n...  \n",
       "1                                                NaN  \n",
       "2                                                NaN  \n",
       "3  http://articles.latimes.com/print/1992-05-24/n...  \n",
       "4                                                NaN  "
      ]
     },
     "execution_count": 3,
     "metadata": {},
     "output_type": "execute_result"
    }
   ],
   "source": [
    "data_df.head()"
   ]
  },
  {
   "cell_type": "code",
   "execution_count": 4,
   "metadata": {},
   "outputs": [
    {
     "data": {
      "text/plain": [
       "(63, 16)"
      ]
     },
     "execution_count": 4,
     "metadata": {},
     "output_type": "execute_result"
    }
   ],
   "source": [
    "data_df.shape"
   ]
  },
  {
   "cell_type": "markdown",
   "metadata": {},
   "source": [
    "### Cleaning the dataset"
   ]
  },
  {
   "cell_type": "code",
   "execution_count": 5,
   "metadata": {},
   "outputs": [
    {
     "data": {
      "text/plain": [
       "first               0\n",
       "last                0\n",
       "Full Name           0\n",
       "Solved*            27\n",
       "Age                 0\n",
       "Gender              0\n",
       "Race                0\n",
       "Date                0\n",
       "Address             0\n",
       "Neighborhood        0\n",
       "status              0\n",
       "lat                 1\n",
       "lon                 1\n",
       "Map Description     0\n",
       "Story               0\n",
       "URL                35\n",
       "dtype: int64"
      ]
     },
     "execution_count": 5,
     "metadata": {},
     "output_type": "execute_result"
    }
   ],
   "source": [
    "#checking for the missing data in the dataset\n",
    "#checking for null values present in the data set\n",
    "data_df.isnull().sum()"
   ]
  },
  {
   "cell_type": "code",
   "execution_count": 6,
   "metadata": {},
   "outputs": [],
   "source": [
    "#Filling the null values\n",
    "\n",
    "data_df['Solved*'].fillna(('Unsolved'),inplace=True)"
   ]
  },
  {
   "cell_type": "code",
   "execution_count": 7,
   "metadata": {},
   "outputs": [],
   "source": [
    "data_df['lat'].fillna((data_df['lat'].mean()),inplace=True)"
   ]
  },
  {
   "cell_type": "code",
   "execution_count": 8,
   "metadata": {},
   "outputs": [],
   "source": [
    "data_df['lon'].fillna((data_df['lon'].mean()),inplace=True)"
   ]
  },
  {
   "cell_type": "code",
   "execution_count": 9,
   "metadata": {},
   "outputs": [],
   "source": [
    "data_df.drop('URL',axis=1,inplace=True)"
   ]
  },
  {
   "cell_type": "code",
   "execution_count": 10,
   "metadata": {},
   "outputs": [
    {
     "data": {
      "text/plain": [
       "first              0\n",
       "last               0\n",
       "Full Name          0\n",
       "Solved*            0\n",
       "Age                0\n",
       "Gender             0\n",
       "Race               0\n",
       "Date               0\n",
       "Address            0\n",
       "Neighborhood       0\n",
       "status             0\n",
       "lat                0\n",
       "lon                0\n",
       "Map Description    0\n",
       "Story              0\n",
       "dtype: int64"
      ]
     },
     "execution_count": 10,
     "metadata": {},
     "output_type": "execute_result"
    }
   ],
   "source": [
    "data_df.isnull().sum()"
   ]
  },
  {
   "cell_type": "code",
   "execution_count": 11,
   "metadata": {},
   "outputs": [],
   "source": [
    "data_df.rename(columns={'Solved*':'Solved'},inplace=True)"
   ]
  },
  {
   "cell_type": "code",
   "execution_count": 12,
   "metadata": {},
   "outputs": [
    {
     "data": {
      "text/html": [
       "<div>\n",
       "<style scoped>\n",
       "    .dataframe tbody tr th:only-of-type {\n",
       "        vertical-align: middle;\n",
       "    }\n",
       "\n",
       "    .dataframe tbody tr th {\n",
       "        vertical-align: top;\n",
       "    }\n",
       "\n",
       "    .dataframe thead th {\n",
       "        text-align: right;\n",
       "    }\n",
       "</style>\n",
       "<table border=\"1\" class=\"dataframe\">\n",
       "  <thead>\n",
       "    <tr style=\"text-align: right;\">\n",
       "      <th></th>\n",
       "      <th>first</th>\n",
       "      <th>last</th>\n",
       "      <th>Full Name</th>\n",
       "      <th>Solved</th>\n",
       "      <th>Age</th>\n",
       "      <th>Gender</th>\n",
       "      <th>Race</th>\n",
       "      <th>Date</th>\n",
       "      <th>Address</th>\n",
       "      <th>Neighborhood</th>\n",
       "      <th>status</th>\n",
       "      <th>lat</th>\n",
       "      <th>lon</th>\n",
       "      <th>Map Description</th>\n",
       "      <th>Story</th>\n",
       "    </tr>\n",
       "  </thead>\n",
       "  <tbody>\n",
       "    <tr>\n",
       "      <th>0</th>\n",
       "      <td>Cesar A.</td>\n",
       "      <td>Aguilar</td>\n",
       "      <td>Cesar A. Aguilar</td>\n",
       "      <td>Unsolved</td>\n",
       "      <td>18</td>\n",
       "      <td>Male</td>\n",
       "      <td>Latino</td>\n",
       "      <td>1992-04-30</td>\n",
       "      <td>2009 W. 6th St.</td>\n",
       "      <td>Westlake</td>\n",
       "      <td>Officer involved shooting</td>\n",
       "      <td>-118.273976</td>\n",
       "      <td>34.059281</td>\n",
       "      <td>Cesar Aguilar, an 18-year-old Latino, was shot...</td>\n",
       "      <td>Cesar Aguilar, an 18-year-old Latino, was shot...</td>\n",
       "    </tr>\n",
       "    <tr>\n",
       "      <th>1</th>\n",
       "      <td>George</td>\n",
       "      <td>Alvarez</td>\n",
       "      <td>George Alvarez</td>\n",
       "      <td>Unsolved</td>\n",
       "      <td>42</td>\n",
       "      <td>Male</td>\n",
       "      <td>Latino</td>\n",
       "      <td>1992-05-01</td>\n",
       "      <td>Main &amp; College streets</td>\n",
       "      <td>Chinatown</td>\n",
       "      <td>Not riot-related</td>\n",
       "      <td>-118.234098</td>\n",
       "      <td>34.062690</td>\n",
       "      <td>George Alvarez, a 42-year-old Latino, died Fri...</td>\n",
       "      <td>George Alvarez, a 42-year-old Latino, died Fri...</td>\n",
       "    </tr>\n",
       "    <tr>\n",
       "      <th>2</th>\n",
       "      <td>Wilson</td>\n",
       "      <td>Alvarez</td>\n",
       "      <td>Wilson  Alvarez</td>\n",
       "      <td>Unsolved</td>\n",
       "      <td>40</td>\n",
       "      <td>Male</td>\n",
       "      <td>Latino</td>\n",
       "      <td>1992-05-23</td>\n",
       "      <td>3100 Rosecrans Ave.</td>\n",
       "      <td>Hawthorne</td>\n",
       "      <td>Homicide</td>\n",
       "      <td>-118.326816</td>\n",
       "      <td>33.901662</td>\n",
       "      <td>Wilson Alvarez, a 40-year-old Latino, died of ...</td>\n",
       "      <td>Wilson Alvarez, a 40-year-old Latino, died of ...</td>\n",
       "    </tr>\n",
       "    <tr>\n",
       "      <th>3</th>\n",
       "      <td>Brian E.</td>\n",
       "      <td>Andrew</td>\n",
       "      <td>Brian E. Andrew</td>\n",
       "      <td>Unsolved</td>\n",
       "      <td>30</td>\n",
       "      <td>Male</td>\n",
       "      <td>Black</td>\n",
       "      <td>1992-04-30</td>\n",
       "      <td>Rosecrans &amp; Chester avenues</td>\n",
       "      <td>Compton</td>\n",
       "      <td>Officer involved shooting</td>\n",
       "      <td>-118.215390</td>\n",
       "      <td>33.903457</td>\n",
       "      <td>Brian E. Andrew, a 30-year-old black man, was ...</td>\n",
       "      <td>Brian E. Andrew, a 30-year-old black man, was ...</td>\n",
       "    </tr>\n",
       "    <tr>\n",
       "      <th>4</th>\n",
       "      <td>Vivian</td>\n",
       "      <td>Austin</td>\n",
       "      <td>Vivian  Austin</td>\n",
       "      <td>Unsolved</td>\n",
       "      <td>87</td>\n",
       "      <td>Female</td>\n",
       "      <td>Black</td>\n",
       "      <td>5/3/1992</td>\n",
       "      <td>1600 W. 60th St.</td>\n",
       "      <td>Harvard Park</td>\n",
       "      <td>Death</td>\n",
       "      <td>-118.304741</td>\n",
       "      <td>33.985667</td>\n",
       "      <td>Vivian Austin, an 87-year-old black woman, die...</td>\n",
       "      <td>Vivian Austin, an 87-year-old black woman, die...</td>\n",
       "    </tr>\n",
       "    <tr>\n",
       "      <th>5</th>\n",
       "      <td>Franklin</td>\n",
       "      <td>Benavidez</td>\n",
       "      <td>Franklin Benavidez</td>\n",
       "      <td>Unsolved</td>\n",
       "      <td>27</td>\n",
       "      <td>Male</td>\n",
       "      <td>Latino</td>\n",
       "      <td>4/30/1992</td>\n",
       "      <td>4404 S. Western Ave.</td>\n",
       "      <td>Vermont Square</td>\n",
       "      <td>Officer involved shooting</td>\n",
       "      <td>-118.308822</td>\n",
       "      <td>34.003473</td>\n",
       "      <td>Franklin Benavidez, a 27-year-old Latino, was ...</td>\n",
       "      <td>Franklin Benavidez, a 27-year-old Latino, was ...</td>\n",
       "    </tr>\n",
       "    <tr>\n",
       "      <th>6</th>\n",
       "      <td>Carol</td>\n",
       "      <td>Benson</td>\n",
       "      <td>Carol Benson</td>\n",
       "      <td>Unsolved</td>\n",
       "      <td>42</td>\n",
       "      <td>Female</td>\n",
       "      <td>Black</td>\n",
       "      <td>5/2/1992</td>\n",
       "      <td>Harbor Freeway near Slauson Avenue</td>\n",
       "      <td>South Park</td>\n",
       "      <td>Death</td>\n",
       "      <td>-118.280504</td>\n",
       "      <td>33.989168</td>\n",
       "      <td>Carol Benson, a 42-year-old black woman, was s...</td>\n",
       "      <td>Carol Benson, a 42-year-old black woman, was s...</td>\n",
       "    </tr>\n",
       "    <tr>\n",
       "      <th>7</th>\n",
       "      <td>Patrick</td>\n",
       "      <td>Bettan</td>\n",
       "      <td>Patrick Bettan</td>\n",
       "      <td>Solved</td>\n",
       "      <td>30</td>\n",
       "      <td>Male</td>\n",
       "      <td>White</td>\n",
       "      <td>1992-04-30</td>\n",
       "      <td>2740 W. Olympic Blvd.</td>\n",
       "      <td>Koreatown</td>\n",
       "      <td>Homicide</td>\n",
       "      <td>-118.293181</td>\n",
       "      <td>34.052068</td>\n",
       "      <td>Patrick Bettan, a 30-year-old white man, was s...</td>\n",
       "      <td>Patrick Bettan, a 30-year-old white man, was s...</td>\n",
       "    </tr>\n",
       "    <tr>\n",
       "      <th>8</th>\n",
       "      <td>Hector</td>\n",
       "      <td>Castro</td>\n",
       "      <td>Hector Castro</td>\n",
       "      <td>Unsolved</td>\n",
       "      <td>49</td>\n",
       "      <td>Male</td>\n",
       "      <td>Latino</td>\n",
       "      <td>1992-04-30</td>\n",
       "      <td>Vermont &amp; Leeward avenues</td>\n",
       "      <td>Koreatown</td>\n",
       "      <td>Homicide</td>\n",
       "      <td>-118.291654</td>\n",
       "      <td>34.058702</td>\n",
       "      <td>Hector Castro, a 49-year-old Latino, was shot ...</td>\n",
       "      <td>Hector Castro, a 49-year-old Latino, was shot ...</td>\n",
       "    </tr>\n",
       "    <tr>\n",
       "      <th>9</th>\n",
       "      <td>Jerel L.</td>\n",
       "      <td>Channell</td>\n",
       "      <td>Jerel L. Channell</td>\n",
       "      <td>Unsolved</td>\n",
       "      <td>26</td>\n",
       "      <td>Male</td>\n",
       "      <td>Black</td>\n",
       "      <td>4/30/1992</td>\n",
       "      <td>Santa Monica Boulevard &amp; Seward Street</td>\n",
       "      <td>Hollywood</td>\n",
       "      <td>Death</td>\n",
       "      <td>-118.332378</td>\n",
       "      <td>34.091298</td>\n",
       "      <td>Darnell R. Mallory, an 18-year-old black man, ...</td>\n",
       "      <td>Darnell R. Mallory, an 18-year-old black man, ...</td>\n",
       "    </tr>\n",
       "  </tbody>\n",
       "</table>\n",
       "</div>"
      ],
      "text/plain": [
       "      first       last           Full Name    Solved Age  Gender     Race  \\\n",
       "0  Cesar A.    Aguilar    Cesar A. Aguilar  Unsolved  18    Male   Latino   \n",
       "1    George    Alvarez      George Alvarez  Unsolved  42    Male   Latino   \n",
       "2   Wilson     Alvarez     Wilson  Alvarez  Unsolved  40    Male   Latino   \n",
       "3  Brian E.     Andrew     Brian E. Andrew  Unsolved  30    Male    Black   \n",
       "4   Vivian      Austin      Vivian  Austin  Unsolved  87  Female    Black   \n",
       "5  Franklin  Benavidez  Franklin Benavidez  Unsolved  27    Male   Latino   \n",
       "6     Carol     Benson        Carol Benson  Unsolved  42  Female    Black   \n",
       "7   Patrick     Bettan      Patrick Bettan    Solved  30    Male    White   \n",
       "8    Hector     Castro       Hector Castro  Unsolved  49    Male   Latino   \n",
       "9  Jerel L.   Channell   Jerel L. Channell  Unsolved  26    Male    Black   \n",
       "\n",
       "          Date                                 Address    Neighborhood  \\\n",
       "0   1992-04-30                         2009 W. 6th St.        Westlake   \n",
       "1   1992-05-01                  Main & College streets       Chinatown   \n",
       "2   1992-05-23                     3100 Rosecrans Ave.       Hawthorne   \n",
       "3   1992-04-30             Rosecrans & Chester avenues         Compton   \n",
       "4     5/3/1992                        1600 W. 60th St.    Harvard Park   \n",
       "5    4/30/1992                    4404 S. Western Ave.  Vermont Square   \n",
       "6     5/2/1992      Harbor Freeway near Slauson Avenue      South Park   \n",
       "7   1992-04-30                   2740 W. Olympic Blvd.       Koreatown   \n",
       "8   1992-04-30               Vermont & Leeward avenues       Koreatown   \n",
       "9    4/30/1992  Santa Monica Boulevard & Seward Street       Hollywood   \n",
       "\n",
       "                      status         lat        lon  \\\n",
       "0  Officer involved shooting -118.273976  34.059281   \n",
       "1           Not riot-related -118.234098  34.062690   \n",
       "2                   Homicide -118.326816  33.901662   \n",
       "3  Officer involved shooting -118.215390  33.903457   \n",
       "4                      Death -118.304741  33.985667   \n",
       "5  Officer involved shooting -118.308822  34.003473   \n",
       "6                      Death -118.280504  33.989168   \n",
       "7                   Homicide -118.293181  34.052068   \n",
       "8                   Homicide -118.291654  34.058702   \n",
       "9                      Death -118.332378  34.091298   \n",
       "\n",
       "                                     Map Description  \\\n",
       "0  Cesar Aguilar, an 18-year-old Latino, was shot...   \n",
       "1  George Alvarez, a 42-year-old Latino, died Fri...   \n",
       "2  Wilson Alvarez, a 40-year-old Latino, died of ...   \n",
       "3  Brian E. Andrew, a 30-year-old black man, was ...   \n",
       "4  Vivian Austin, an 87-year-old black woman, die...   \n",
       "5  Franklin Benavidez, a 27-year-old Latino, was ...   \n",
       "6  Carol Benson, a 42-year-old black woman, was s...   \n",
       "7  Patrick Bettan, a 30-year-old white man, was s...   \n",
       "8  Hector Castro, a 49-year-old Latino, was shot ...   \n",
       "9  Darnell R. Mallory, an 18-year-old black man, ...   \n",
       "\n",
       "                                               Story  \n",
       "0  Cesar Aguilar, an 18-year-old Latino, was shot...  \n",
       "1  George Alvarez, a 42-year-old Latino, died Fri...  \n",
       "2  Wilson Alvarez, a 40-year-old Latino, died of ...  \n",
       "3  Brian E. Andrew, a 30-year-old black man, was ...  \n",
       "4  Vivian Austin, an 87-year-old black woman, die...  \n",
       "5  Franklin Benavidez, a 27-year-old Latino, was ...  \n",
       "6  Carol Benson, a 42-year-old black woman, was s...  \n",
       "7  Patrick Bettan, a 30-year-old white man, was s...  \n",
       "8  Hector Castro, a 49-year-old Latino, was shot ...  \n",
       "9  Darnell R. Mallory, an 18-year-old black man, ...  "
      ]
     },
     "execution_count": 12,
     "metadata": {},
     "output_type": "execute_result"
    }
   ],
   "source": [
    "data_df.head(10)"
   ]
  },
  {
   "cell_type": "code",
   "execution_count": 13,
   "metadata": {},
   "outputs": [
    {
     "name": "stdout",
     "output_type": "stream",
     "text": [
      "<class 'pandas.core.frame.DataFrame'>\n",
      "RangeIndex: 63 entries, 0 to 62\n",
      "Data columns (total 15 columns):\n",
      " #   Column           Non-Null Count  Dtype  \n",
      "---  ------           --------------  -----  \n",
      " 0   first            63 non-null     object \n",
      " 1   last             63 non-null     object \n",
      " 2   Full Name        63 non-null     object \n",
      " 3   Solved           63 non-null     object \n",
      " 4   Age              63 non-null     object \n",
      " 5   Gender           63 non-null     object \n",
      " 6   Race             63 non-null     object \n",
      " 7   Date             63 non-null     object \n",
      " 8   Address          63 non-null     object \n",
      " 9   Neighborhood     63 non-null     object \n",
      " 10  status           63 non-null     object \n",
      " 11  lat              63 non-null     float64\n",
      " 12  lon              63 non-null     float64\n",
      " 13  Map Description  63 non-null     object \n",
      " 14  Story            63 non-null     object \n",
      "dtypes: float64(2), object(13)\n",
      "memory usage: 7.5+ KB\n"
     ]
    }
   ],
   "source": [
    "data_df.info()"
   ]
  },
  {
   "cell_type": "markdown",
   "metadata": {},
   "source": [
    "# Exploratry Data Analysis"
   ]
  },
  {
   "cell_type": "code",
   "execution_count": 14,
   "metadata": {},
   "outputs": [
    {
     "data": {
      "text/plain": [
       "John H.           1\n",
       "Edward Anthony    1\n",
       "Cesar A.          1\n",
       "Betty             1\n",
       "Frank D.          1\n",
       "                 ..\n",
       "Imad              1\n",
       "Andreas           1\n",
       "Victor R.         1\n",
       "John              1\n",
       "Gregory           1\n",
       "Name: first, Length: 63, dtype: int64"
      ]
     },
     "execution_count": 14,
     "metadata": {},
     "output_type": "execute_result"
    }
   ],
   "source": [
    "data_df['first'].value_counts()"
   ]
  },
  {
   "cell_type": "markdown",
   "metadata": {},
   "source": [
    "### Number of Solved and Unsolved Cases"
   ]
  },
  {
   "cell_type": "code",
   "execution_count": 15,
   "metadata": {},
   "outputs": [],
   "source": [
    "#making the dataframe\n",
    "cases_status=data_df.loc[:,'Solved']"
   ]
  },
  {
   "cell_type": "code",
   "execution_count": 16,
   "metadata": {},
   "outputs": [
    {
     "data": {
      "text/plain": [
       "0    Unsolved\n",
       "1    Unsolved\n",
       "2    Unsolved\n",
       "3    Unsolved\n",
       "4    Unsolved\n",
       "Name: Solved, dtype: object"
      ]
     },
     "execution_count": 16,
     "metadata": {},
     "output_type": "execute_result"
    }
   ],
   "source": [
    "cases_status.head()"
   ]
  },
  {
   "cell_type": "code",
   "execution_count": 17,
   "metadata": {},
   "outputs": [],
   "source": [
    "#counting the number of values for each unique element of coloums solved\n",
    "countcases_df=data_df['Solved'].value_counts()"
   ]
  },
  {
   "cell_type": "code",
   "execution_count": 18,
   "metadata": {},
   "outputs": [
    {
     "data": {
      "text/plain": [
       "Unsolved    50\n",
       "Solved      13\n",
       "Name: Solved, dtype: int64"
      ]
     },
     "execution_count": 18,
     "metadata": {},
     "output_type": "execute_result"
    }
   ],
   "source": [
    "countcases_df.head()"
   ]
  },
  {
   "cell_type": "code",
   "execution_count": 19,
   "metadata": {},
   "outputs": [
    {
     "data": {
      "text/plain": [
       "<matplotlib.axes._subplots.AxesSubplot at 0x1bf3ed29788>"
      ]
     },
     "execution_count": 19,
     "metadata": {},
     "output_type": "execute_result"
    },
    {
     "data": {
      "image/png": "[encoded data removed]",
      "text/plain": [
       "<Figure size 432x288 with 1 Axes>"
      ]
     },
     "metadata": {
      "needs_background": "light"
     },
     "output_type": "display_data"
    }
   ],
   "source": [
    "#Visualisation of cases \n",
    "plt.ylabel('Number of cases')\n",
    "plt.title('Status of the cases')\n",
    "data_df['Solved'].value_counts().plot(kind='bar')"
   ]
  },
  {
   "cell_type": "markdown",
   "metadata": {},
   "source": [
    "### People of various races killed"
   ]
  },
  {
   "cell_type": "code",
   "execution_count": 20,
   "metadata": {},
   "outputs": [],
   "source": [
    "#making the dataframe\n",
    "people_race=data_df.loc[:,'Race']"
   ]
  },
  {
   "cell_type": "code",
   "execution_count": 21,
   "metadata": {},
   "outputs": [
    {
     "data": {
      "text/plain": [
       "0      Latino\n",
       "1      Latino\n",
       "2      Latino\n",
       "3       Black\n",
       "4       Black\n",
       "       ...   \n",
       "58      Black\n",
       "59      Black\n",
       "60      Black\n",
       "61      White\n",
       "62      Black\n",
       "Name: Race, Length: 63, dtype: object"
      ]
     },
     "execution_count": 21,
     "metadata": {},
     "output_type": "execute_result"
    }
   ],
   "source": [
    "#showing the result\n",
    "people_race.head(63)"
   ]
  },
  {
   "cell_type": "code",
   "execution_count": 22,
   "metadata": {},
   "outputs": [
    {
     "data": {
      "text/plain": [
       " Black     19\n",
       " Latino    17\n",
       " White     13\n",
       "Black       9\n",
       "Latino      2\n",
       " Asian      2\n",
       "White       1\n",
       "Name: Race, dtype: int64"
      ]
     },
     "execution_count": 22,
     "metadata": {},
     "output_type": "execute_result"
    }
   ],
   "source": [
    "#counting the number of people of various races killed\n",
    "count_people_race=data_df['Race'].value_counts()\n",
    "count_people_race"
   ]
  },
  {
   "cell_type": "code",
   "execution_count": 23,
   "metadata": {},
   "outputs": [],
   "source": [
    "#Now since we can see that we have two black and two latino and two white so we will include them as same in their category"
   ]
  },
  {
   "cell_type": "code",
   "execution_count": 24,
   "metadata": {},
   "outputs": [
    {
     "data": {
      "text/plain": [
       "<matplotlib.axes._subplots.AxesSubplot at 0x1bf3f53ad08>"
      ]
     },
     "execution_count": 24,
     "metadata": {},
     "output_type": "execute_result"
    },
    {
     "data": {
      "image/png": "[encoded data removed]",
      "text/plain": [
       "<Figure size 432x288 with 1 Axes>"
      ]
     },
     "metadata": {
      "needs_background": "light"
     },
     "output_type": "display_data"
    }
   ],
   "source": [
    "plt.ylabel('Number of people Dead')\n",
    "plt.xlabel('Race')\n",
    "plt.title('People of various races deceased')\n",
    "count_people_race.plot(kind='bar')"
   ]
  },
  {
   "cell_type": "code",
   "execution_count": 25,
   "metadata": {},
   "outputs": [
    {
     "data": {
      "text/plain": [
       " Male      48\n",
       "Male        8\n",
       "Female      4\n",
       " Female     3\n",
       "Name: Gender, dtype: int64"
      ]
     },
     "execution_count": 25,
     "metadata": {},
     "output_type": "execute_result"
    }
   ],
   "source": [
    "#Deaths based on gender\n",
    "data_df['Gender'].value_counts()"
   ]
  },
  {
   "cell_type": "code",
   "execution_count": 26,
   "metadata": {},
   "outputs": [
    {
     "data": {
      "text/plain": [
       "<matplotlib.axes._subplots.AxesSubplot at 0x1bf3f5ba248>"
      ]
     },
     "execution_count": 26,
     "metadata": {},
     "output_type": "execute_result"
    },
    {
     "data": {
      "image/png": "[encoded data removed]",
      "text/plain": [
       "<Figure size 432x288 with 1 Axes>"
      ]
     },
     "metadata": {
      "needs_background": "light"
     },
     "output_type": "display_data"
    }
   ],
   "source": [
    "#visualisation\n",
    "plt.xlabel('Gender')\n",
    "plt.ylabel('People killed')\n",
    "plt.title('Deaths based on gender')\n",
    "data_df['Gender'].value_counts().plot(kind='bar')"
   ]
  },
  {
   "cell_type": "markdown",
   "metadata": {},
   "source": [
    "## Deaths in various regions"
   ]
  },
  {
   "cell_type": "code",
   "execution_count": 27,
   "metadata": {},
   "outputs": [
    {
     "data": {
      "text/html": [
       "<div>\n",
       "<style scoped>\n",
       "    .dataframe tbody tr th:only-of-type {\n",
       "        vertical-align: middle;\n",
       "    }\n",
       "\n",
       "    .dataframe tbody tr th {\n",
       "        vertical-align: top;\n",
       "    }\n",
       "\n",
       "    .dataframe thead th {\n",
       "        text-align: right;\n",
       "    }\n",
       "</style>\n",
       "<table border=\"1\" class=\"dataframe\">\n",
       "  <thead>\n",
       "    <tr style=\"text-align: right;\">\n",
       "      <th></th>\n",
       "      <th>first</th>\n",
       "      <th>lat</th>\n",
       "      <th>lon</th>\n",
       "    </tr>\n",
       "  </thead>\n",
       "  <tbody>\n",
       "    <tr>\n",
       "      <th>0</th>\n",
       "      <td>Cesar A.</td>\n",
       "      <td>-118.273976</td>\n",
       "      <td>34.059281</td>\n",
       "    </tr>\n",
       "    <tr>\n",
       "      <th>1</th>\n",
       "      <td>George</td>\n",
       "      <td>-118.234098</td>\n",
       "      <td>34.062690</td>\n",
       "    </tr>\n",
       "    <tr>\n",
       "      <th>2</th>\n",
       "      <td>Wilson</td>\n",
       "      <td>-118.326816</td>\n",
       "      <td>33.901662</td>\n",
       "    </tr>\n",
       "    <tr>\n",
       "      <th>3</th>\n",
       "      <td>Brian E.</td>\n",
       "      <td>-118.215390</td>\n",
       "      <td>33.903457</td>\n",
       "    </tr>\n",
       "    <tr>\n",
       "      <th>4</th>\n",
       "      <td>Vivian</td>\n",
       "      <td>-118.304741</td>\n",
       "      <td>33.985667</td>\n",
       "    </tr>\n",
       "    <tr>\n",
       "      <th>...</th>\n",
       "      <td>...</td>\n",
       "      <td>...</td>\n",
       "      <td>...</td>\n",
       "    </tr>\n",
       "    <tr>\n",
       "      <th>58</th>\n",
       "      <td>Fredrick</td>\n",
       "      <td>-118.412778</td>\n",
       "      <td>34.287098</td>\n",
       "    </tr>\n",
       "    <tr>\n",
       "      <th>59</th>\n",
       "      <td>Louis A.</td>\n",
       "      <td>-118.291557</td>\n",
       "      <td>34.005244</td>\n",
       "    </tr>\n",
       "    <tr>\n",
       "      <th>60</th>\n",
       "      <td>Elbert O.</td>\n",
       "      <td>-118.310004</td>\n",
       "      <td>33.952767</td>\n",
       "    </tr>\n",
       "    <tr>\n",
       "      <th>61</th>\n",
       "      <td>John H.</td>\n",
       "      <td>-118.467770</td>\n",
       "      <td>34.263184</td>\n",
       "    </tr>\n",
       "    <tr>\n",
       "      <th>62</th>\n",
       "      <td>Willie Bernard</td>\n",
       "      <td>-118.308952</td>\n",
       "      <td>33.982363</td>\n",
       "    </tr>\n",
       "  </tbody>\n",
       "</table>\n",
       "<p>63 rows × 3 columns</p>\n",
       "</div>"
      ],
      "text/plain": [
       "             first         lat        lon\n",
       "0         Cesar A. -118.273976  34.059281\n",
       "1           George -118.234098  34.062690\n",
       "2          Wilson  -118.326816  33.901662\n",
       "3         Brian E. -118.215390  33.903457\n",
       "4          Vivian  -118.304741  33.985667\n",
       "..             ...         ...        ...\n",
       "58        Fredrick -118.412778  34.287098\n",
       "59        Louis A. -118.291557  34.005244\n",
       "60       Elbert O. -118.310004  33.952767\n",
       "61         John H. -118.467770  34.263184\n",
       "62  Willie Bernard -118.308952  33.982363\n",
       "\n",
       "[63 rows x 3 columns]"
      ]
     },
     "execution_count": 27,
     "metadata": {},
     "output_type": "execute_result"
    }
   ],
   "source": [
    "deaths_df=data_df[['first','lat','lon']]\n",
    "deaths_df"
   ]
  },
  {
   "cell_type": "code",
   "execution_count": 28,
   "metadata": {},
   "outputs": [
    {
     "data": {
      "image/png": "[encoded data removed]",
      "text/plain": [
       "<Figure size 432x288 with 1 Axes>"
      ]
     },
     "metadata": {
      "needs_background": "light"
     },
     "output_type": "display_data"
    }
   ],
   "source": [
    "plt.scatter(x=deaths_df['lon'], y=deaths_df['lat'],alpha=0.8)\n",
    "plt.show()"
   ]
  },
  {
   "cell_type": "code",
   "execution_count": 29,
   "metadata": {},
   "outputs": [
    {
     "data": {
      "text/plain": [
       "Homicide                     36\n",
       "Officer involved shooting    10\n",
       "Not riot-related              9\n",
       "Death                         8\n",
       "Name: status, dtype: int64"
      ]
     },
     "execution_count": 29,
     "metadata": {},
     "output_type": "execute_result"
    }
   ],
   "source": [
    "#How were they killed?\n",
    "\n",
    "deathMeans= data_df['status'].value_counts()\n",
    "deathMeans"
   ]
  },
  {
   "cell_type": "code",
   "execution_count": 30,
   "metadata": {},
   "outputs": [
    {
     "data": {
      "text/plain": [
       "<matplotlib.axes._subplots.AxesSubplot at 0x1bf3f68e5c8>"
      ]
     },
     "execution_count": 30,
     "metadata": {},
     "output_type": "execute_result"
    },
    {
     "data": {
      "image/png": "[encoded data removed]",
      "text/plain": [
       "<Figure size 432x288 with 1 Axes>"
      ]
     },
     "metadata": {
      "needs_background": "light"
     },
     "output_type": "display_data"
    }
   ],
   "source": [
    "deathMeans.plot(kind='barh',color='r')"
   ]
  },
  {
   "cell_type": "code",
   "execution_count": 32,
   "metadata": {},
   "outputs": [
    {
     "data": {
      "text/html": [
       "<div>\n",
       "<style scoped>\n",
       "    .dataframe tbody tr th:only-of-type {\n",
       "        vertical-align: middle;\n",
       "    }\n",
       "\n",
       "    .dataframe tbody tr th {\n",
       "        vertical-align: top;\n",
       "    }\n",
       "\n",
       "    .dataframe thead th {\n",
       "        text-align: right;\n",
       "    }\n",
       "</style>\n",
       "<table border=\"1\" class=\"dataframe\">\n",
       "  <thead>\n",
       "    <tr style=\"text-align: right;\">\n",
       "      <th></th>\n",
       "      <th>status</th>\n",
       "      <th>lon</th>\n",
       "      <th>lat</th>\n",
       "    </tr>\n",
       "  </thead>\n",
       "  <tbody>\n",
       "    <tr>\n",
       "      <th>0</th>\n",
       "      <td>Officer involved shooting</td>\n",
       "      <td>34.059281</td>\n",
       "      <td>-118.273976</td>\n",
       "    </tr>\n",
       "    <tr>\n",
       "      <th>1</th>\n",
       "      <td>Not riot-related</td>\n",
       "      <td>34.062690</td>\n",
       "      <td>-118.234098</td>\n",
       "    </tr>\n",
       "    <tr>\n",
       "      <th>2</th>\n",
       "      <td>Homicide</td>\n",
       "      <td>33.901662</td>\n",
       "      <td>-118.326816</td>\n",
       "    </tr>\n",
       "    <tr>\n",
       "      <th>3</th>\n",
       "      <td>Officer involved shooting</td>\n",
       "      <td>33.903457</td>\n",
       "      <td>-118.215390</td>\n",
       "    </tr>\n",
       "    <tr>\n",
       "      <th>4</th>\n",
       "      <td>Death</td>\n",
       "      <td>33.985667</td>\n",
       "      <td>-118.304741</td>\n",
       "    </tr>\n",
       "    <tr>\n",
       "      <th>...</th>\n",
       "      <td>...</td>\n",
       "      <td>...</td>\n",
       "      <td>...</td>\n",
       "    </tr>\n",
       "    <tr>\n",
       "      <th>58</th>\n",
       "      <td>Homicide</td>\n",
       "      <td>34.287098</td>\n",
       "      <td>-118.412778</td>\n",
       "    </tr>\n",
       "    <tr>\n",
       "      <th>59</th>\n",
       "      <td>Homicide</td>\n",
       "      <td>34.005244</td>\n",
       "      <td>-118.291557</td>\n",
       "    </tr>\n",
       "    <tr>\n",
       "      <th>60</th>\n",
       "      <td>Homicide</td>\n",
       "      <td>33.952767</td>\n",
       "      <td>-118.310004</td>\n",
       "    </tr>\n",
       "    <tr>\n",
       "      <th>61</th>\n",
       "      <td>Homicide</td>\n",
       "      <td>34.263184</td>\n",
       "      <td>-118.467770</td>\n",
       "    </tr>\n",
       "    <tr>\n",
       "      <th>62</th>\n",
       "      <td>Death</td>\n",
       "      <td>33.982363</td>\n",
       "      <td>-118.308952</td>\n",
       "    </tr>\n",
       "  </tbody>\n",
       "</table>\n",
       "<p>63 rows × 3 columns</p>\n",
       "</div>"
      ],
      "text/plain": [
       "                       status        lon         lat\n",
       "0   Officer involved shooting  34.059281 -118.273976\n",
       "1            Not riot-related  34.062690 -118.234098\n",
       "2                    Homicide  33.901662 -118.326816\n",
       "3   Officer involved shooting  33.903457 -118.215390\n",
       "4                       Death  33.985667 -118.304741\n",
       "..                        ...        ...         ...\n",
       "58                   Homicide  34.287098 -118.412778\n",
       "59                   Homicide  34.005244 -118.291557\n",
       "60                   Homicide  33.952767 -118.310004\n",
       "61                   Homicide  34.263184 -118.467770\n",
       "62                      Death  33.982363 -118.308952\n",
       "\n",
       "[63 rows x 3 columns]"
      ]
     },
     "execution_count": 32,
     "metadata": {},
     "output_type": "execute_result"
    }
   ],
   "source": [
    "new_df=data_df[['status','lon','lat']]\n",
    "new_df"
   ]
  },
  {
   "cell_type": "code",
   "execution_count": 34,
   "metadata": {},
   "outputs": [
    {
     "data": {
      "image/png": "[encoded data removed]",
      "text/plain": [
       "<Figure size 432x288 with 1 Axes>"
      ]
     },
     "metadata": {
      "needs_background": "light"
     },
     "output_type": "display_data"
    }
   ],
   "source": [
    "import seaborn as sns\n",
    "ax=sns.scatterplot(x=\"lon\",y=\"lat\",hue=\"status\",data=new_df)"
   ]
  },
  {
   "cell_type": "code",
   "execution_count": null,
   "metadata": {},
   "outputs": [],
   "source": []
  }
 ],
 "metadata": {
  "kernelspec": {
   "display_name": "Python 3",
   "language": "python",
   "name": "python3"
  },
  "language_info": {
   "codemirror_mode": {
    "name": "ipython",
    "version": 3
   },
   "file_extension": ".py",
   "mimetype": "text/x-python",
   "name": "python",
   "nbconvert_exporter": "python",
   "pygments_lexer": "ipython3",
   "version": "3.7.6"
  }
 },
 "nbformat": 4,
 "nbformat_minor": 4
}
